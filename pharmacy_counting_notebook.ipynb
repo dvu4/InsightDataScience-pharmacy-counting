{
 "cells": [
  {
   "cell_type": "markdown",
   "metadata": {},
   "source": [
    "## InsightDataScience Coding Challenge - Pharmacy counting\n",
    "\n",
    "This notebook processes the information on prescription drugs prescribed by individual physicians and other health care providers and generates a list of of (drug_name, num_prescriber, total_cost).\n",
    "\n",
    "- drug_name: the exact drug name as shown in the input dataset \n",
    "\n",
    "- num_prescriber: the total number of UNIQUE individuals who prescribed the medication (a prescriber is considered the same person if two lines share the same prescriber first and last names)\n",
    "\n",
    "- total_cost: total cost of the drug across all prescribers, which must be listed in descending order based on the total drug cost and if there is a tie, drug name in ascending order. \n"
   ]
  },
  {
   "cell_type": "markdown",
   "metadata": {},
   "source": [
    "### 1. Group the prescription drugs\n",
    "\n",
    "- group the prescription drugs by drug name \n",
    "\n",
    "- record them in bag_of_drugs dictionary. "
   ]
  },
  {
   "cell_type": "code",
   "execution_count": 1,
   "metadata": {},
   "outputs": [],
   "source": [
    "def record_drugs(line, bag_of_drugs):  \n",
    "    \"\"\"Group the information on prescription drugs by drug name and record them in bag_of_drugs dictionary.       \n",
    "    Params\n",
    "    ======\n",
    "        line (list): containing id, prescriber_last_name, prescriber_first_name, drug_name, drug_cost\n",
    "        bag_of_drugs (dictionary): dictionary of drugs \n",
    "    \"\"\"\n",
    "    # get drug_name \n",
    "    drug_name = line[3]\n",
    "    if drug_name != '':\n",
    "        # group by drug_name\n",
    "        if drug_name in bag_of_drugs:\n",
    "            bag_of_drugs[drug_name].append(line) \n",
    "        else:\n",
    "            bag_of_drugs[drug_name] = []\n",
    "            bag_of_drugs[drug_name].append(line) "
   ]
  },
  {
   "cell_type": "markdown",
   "metadata": {},
   "source": [
    "### 2. Extract the  drug name, number of prescriber, total cost\n",
    "\n",
    "- obtain a list ot tuples in (drug_name, num_prescriber, total_cost) format, \n",
    "\n",
    "- sort the list by drug name in ascending order   \n",
    "\n",
    "- sort the list by total drug cost in descending order \n"
   ]
  },
  {
   "cell_type": "code",
   "execution_count": 2,
   "metadata": {},
   "outputs": [],
   "source": [
    "def count_drugs(bag_of_drugs, drugs_result):\n",
    "    \"\"\"Return a list ot tuples in (drug_name, num_prescriber, total_cost) format, sorted by total drug cost and drug name.     \n",
    "    Params\n",
    "    ======\n",
    "        bag_of_drugs (dictionary): dictionary of drugs \n",
    "        drugs_result (list of tuples) : list ot tuples (drug_name, num_prescriber, total_cost)\n",
    "    \"\"\"   \n",
    "    for drug_name, values in bag_of_drugs.items():\n",
    "        # get the list of last_name and fist_name of all prescribers\n",
    "        list_prescriber = [ tuple([ i[1].lower(), i[2].lower() ]) for i in values ]\n",
    "        # count the number of unique prescribers who prescribe the drug\n",
    "        num_prescriber = len(set(list_prescriber))\n",
    "        # get the total cost of the drug across all prescribers\n",
    "        total_cost = sum([ int(float(i[-1])) for i in values ])\n",
    "        # create a list of all drugs, the total number of UNIQUE prescribers, and the total drug cost\n",
    "        drugs_result.append(tuple([drug_name, num_prescriber, total_cost]))\n",
    "        \n",
    "    #sort the drug name in ascending order\n",
    "    drugs_result.sort(key=lambda x: x[0], reverse=False)\n",
    "    \n",
    "    #sort the total drug cost in descending order \n",
    "    drugs_result.sort(key=lambda x: x[2], reverse=True)"
   ]
  },
  {
   "cell_type": "markdown",
   "metadata": {},
   "source": [
    "### 3. Read the input dataset and write out the result"
   ]
  },
  {
   "cell_type": "code",
   "execution_count": 3,
   "metadata": {},
   "outputs": [],
   "source": [
    "bag_of_drugs = {}\n",
    "drugs_result = []\n",
    "\n",
    "\n",
    "infilepath = './insight_testsuite/tests/test_1/input/itcont.txt' \n",
    "with open(infilepath) as fp:  \n",
    "    headerline = fp.readline()\n",
    "    for line in fp:\n",
    "        #print(line.strip().split(','))\n",
    "        record_drugs(line.strip().split(','), bag_of_drugs)\n",
    "    \n",
    "    count_drugs(bag_of_drugs, drugs_result) \n",
    "    \n",
    "    \n",
    "outfilepath = './insight_testsuite/tests/test_1/output/top_cost_drug.txt' \n",
    "header = [('drug_name','num_prescriber','total_cost')]\n",
    "with open(outfilepath, 'w') as fp:\n",
    "    fp.write('\\n'.join('{},{},{}'.format(x[0], x[1], x[2]) for x in header) + '\\n')\n",
    "    fp.write('\\n'.join('{},{},{}'.format(x[0], x[1], x[2]) for x in drugs_result))"
   ]
  },
  {
   "cell_type": "code",
   "execution_count": 4,
   "metadata": {},
   "outputs": [
    {
     "name": "stdout",
     "output_type": "stream",
     "text": [
      "{'AMBIEN': [['1000000001', 'Smith', 'James', 'AMBIEN', '100'], ['1000000002', 'Garcia', 'Maria', 'AMBIEN', '200']], 'CHLORPROMAZINE': [['1000000003', 'Johnson', 'James', 'CHLORPROMAZINE', '1000'], ['1000000004', 'Rodriguez', 'Maria', 'CHLORPROMAZINE', '2000']], 'BENZTROPINE MESYLATE': [['1000000005', 'Smith', 'David', 'BENZTROPINE MESYLATE', '1500']]}\n"
     ]
    }
   ],
   "source": [
    "print(bag_of_drugs)"
   ]
  },
  {
   "cell_type": "code",
   "execution_count": 5,
   "metadata": {},
   "outputs": [
    {
     "name": "stdout",
     "output_type": "stream",
     "text": [
      "[('CHLORPROMAZINE', 2, 3000), ('BENZTROPINE MESYLATE', 1, 1500), ('AMBIEN', 2, 300)]\n"
     ]
    }
   ],
   "source": [
    "print(drugs_result)"
   ]
  },
  {
   "cell_type": "markdown",
   "metadata": {},
   "source": [
    "### 4. Generate and test a new input dataset in your-own-test_1\n",
    "\n",
    "extract 1000 lines from full dataset "
   ]
  },
  {
   "cell_type": "code",
   "execution_count": 6,
   "metadata": {},
   "outputs": [
    {
     "name": "stdout",
     "output_type": "stream",
     "text": [
      "CPU times: user 4min 6s, sys: 1.89 s, total: 4min 8s\n",
      "Wall time: 4min 8s\n"
     ]
    }
   ],
   "source": [
    "%%time\n",
    "import random\n",
    "\n",
    "whatlines = random.sample(range(1, 24000000), 1000)\n",
    "filepath = './de_cc_data.txt' \n",
    "thefile = open(filepath) \n",
    "header = thefile.readline()\n",
    "\n",
    "def picklines(thefile, whatlines):\n",
    "    return [x for i, x in enumerate(thefile) if i in whatlines]\n",
    "\n",
    "random_lines = picklines(thefile, whatlines)\n",
    "random_lines.insert(0, header)\n",
    "\n",
    "\n",
    "outfilepath = './insight_testsuite/tests/your-own-test_1/input/itcont.txt' \n",
    "with open(outfilepath, 'w') as fp:  \n",
    "    fp.writelines(\"%s\" % i for i in random_lines)"
   ]
  },
  {
   "cell_type": "code",
   "execution_count": 7,
   "metadata": {},
   "outputs": [
    {
     "name": "stdout",
     "output_type": "stream",
     "text": [
      "CPU times: user 4.94 ms, sys: 1.7 ms, total: 6.64 ms\n",
      "Wall time: 5.64 ms\n"
     ]
    }
   ],
   "source": [
    "%%time\n",
    "bag_of_drugs = {}\n",
    "drugs_result = []\n",
    "\n",
    "\n",
    "infilepath = './insight_testsuite/tests/your-own-test_1/input/itcont.txt' \n",
    "with open(infilepath) as fp:  \n",
    "    headerline = fp.readline()\n",
    "    for line in fp:\n",
    "        record_drugs(line.strip().split(','), bag_of_drugs)\n",
    "    \n",
    "    count_drugs(bag_of_drugs, drugs_result) \n",
    "    \n",
    "    \n",
    "outfilepath = './insight_testsuite/tests/your-own-test_1/output/top_cost_drug.txt'  \n",
    "header = [('drug_name','num_prescriber','total_cost')]\n",
    "with open(outfilepath, 'w') as fp:\n",
    "    fp.write('\\n'.join('{},{},{}'.format(x[0], x[1], x[2]) for x in header) + '\\n')\n",
    "    fp.write('\\n'.join('{},{},{}'.format(x[0], x[1], x[2]) for x in drugs_result))"
   ]
  },
  {
   "cell_type": "code",
   "execution_count": null,
   "metadata": {},
   "outputs": [],
   "source": []
  },
  {
   "cell_type": "markdown",
   "metadata": {},
   "source": [
    "### 5. Test full input dataset"
   ]
  },
  {
   "cell_type": "code",
   "execution_count": 12,
   "metadata": {},
   "outputs": [
    {
     "name": "stdout",
     "output_type": "stream",
     "text": [
      "CPU times: user 1min 53s, sys: 21.5 s, total: 2min 14s\n",
      "Wall time: 2min 20s\n"
     ]
    }
   ],
   "source": [
    "%%time\n",
    "test_bag_of_drugs = {}\n",
    "test_drugs_result = []\n",
    "\n",
    "with open('de_cc_data.txt') as fp:  \n",
    "    line = fp.readline()\n",
    "    for line in fp:\n",
    "        record_drugs(line.strip().split(','), test_bag_of_drugs)\n",
    "    \n",
    "    count_drugs(test_bag_of_drugs, test_drugs_result)   \n",
    "\n",
    "    \n",
    "outfilepath = './top_cost_drug.txt' \n",
    "header = [('drug_name','num_prescriber','total_cost')]\n",
    "with open(outfilepath, 'w') as fp:\n",
    "    fp.write('\\n'.join('{},{},{}'.format(x[0], x[1], x[2]) for x in header) + '\\n')\n",
    "    fp.write('\\n'.join('{},{},{}'.format(x[0], x[1], x[2]) for x in test_drugs_result))"
   ]
  },
  {
   "cell_type": "markdown",
   "metadata": {},
   "source": [
    "### 6. Explore full dataset with Pandas\n",
    "\n",
    "full dataset contains over 24 million records "
   ]
  },
  {
   "cell_type": "code",
   "execution_count": 8,
   "metadata": {},
   "outputs": [
    {
     "name": "stdout",
     "output_type": "stream",
     "text": [
      "CPU times: user 14.8 s, sys: 1.22 s, total: 16 s\n",
      "Wall time: 16.3 s\n"
     ]
    }
   ],
   "source": [
    "%%time\n",
    "import pandas as pd\n",
    "\n",
    "df = pd.read_csv('de_cc_data.txt')\n",
    "df.head()"
   ]
  },
  {
   "cell_type": "code",
   "execution_count": 9,
   "metadata": {},
   "outputs": [
    {
     "data": {
      "text/plain": [
       "id                       24525859\n",
       "prescriber_last_name     24525410\n",
       "prescriber_first_name    24525651\n",
       "drug_name                24525859\n",
       "drug_cost                24525859\n",
       "dtype: int64"
      ]
     },
     "execution_count": 9,
     "metadata": {},
     "output_type": "execute_result"
    }
   ],
   "source": [
    "df.count()"
   ]
  },
  {
   "cell_type": "code",
   "execution_count": 10,
   "metadata": {},
   "outputs": [
    {
     "name": "stdout",
     "output_type": "stream",
     "text": [
      "<class 'pandas.core.frame.DataFrame'>\n",
      "RangeIndex: 24525859 entries, 0 to 24525858\n",
      "Data columns (total 5 columns):\n",
      "id                       int64\n",
      "prescriber_last_name     object\n",
      "prescriber_first_name    object\n",
      "drug_name                object\n",
      "drug_cost                float64\n",
      "dtypes: float64(1), int64(1), object(3)\n",
      "memory usage: 935.6+ MB\n"
     ]
    }
   ],
   "source": [
    "df.info()"
   ]
  },
  {
   "cell_type": "code",
   "execution_count": 13,
   "metadata": {},
   "outputs": [
    {
     "name": "stdout",
     "output_type": "stream",
     "text": [
      "2749\n",
      "CPU times: user 29.4 s, sys: 781 ms, total: 30.2 s\n",
      "Wall time: 30.3 s\n"
     ]
    }
   ],
   "source": [
    "%%time\n",
    "import numpy as np\n",
    "drug_list = np.unique(df['drug_name'])\n",
    "print(len(drug_list))"
   ]
  },
  {
   "cell_type": "code",
   "execution_count": 14,
   "metadata": {},
   "outputs": [
    {
     "data": {
      "text/plain": [
       "count                      24525859\n",
       "unique                         2749\n",
       "top       HYDROCODONE-ACETAMINOPHEN\n",
       "freq                         306651\n",
       "Name: drug_name, dtype: object"
      ]
     },
     "execution_count": 14,
     "metadata": {},
     "output_type": "execute_result"
    }
   ],
   "source": [
    "df['drug_name'].describe()"
   ]
  },
  {
   "cell_type": "code",
   "execution_count": null,
   "metadata": {},
   "outputs": [],
   "source": []
  }
 ],
 "metadata": {
  "kernelspec": {
   "display_name": "Python 3",
   "language": "python",
   "name": "python3"
  },
  "language_info": {
   "codemirror_mode": {
    "name": "ipython",
    "version": 3
   },
   "file_extension": ".py",
   "mimetype": "text/x-python",
   "name": "python",
   "nbconvert_exporter": "python",
   "pygments_lexer": "ipython3",
   "version": "3.6.6"
  }
 },
 "nbformat": 4,
 "nbformat_minor": 2
}
